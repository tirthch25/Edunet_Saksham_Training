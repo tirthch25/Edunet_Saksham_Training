{
 "cells": [
  {
   "cell_type": "code",
   "execution_count": null,
   "id": "ebff0170-32e4-4da8-a911-c03ce2484a33",
   "metadata": {},
   "outputs": [],
   "source": [
    "#Swaping\n",
    "a=1\n",
    "b=2\n",
    "a,b=b,a\n",
    "print(a,b)"
   ]
  },
  {
   "cell_type": "code",
   "execution_count": 3,
   "id": "073355c3-f96a-4f28-b70c-952a0eff0429",
   "metadata": {},
   "outputs": [
    {
     "name": "stdin",
     "output_type": "stream",
     "text": [
      "Enter your Name: Tirth\n"
     ]
    },
    {
     "name": "stdout",
     "output_type": "stream",
     "text": [
      "Welcome Tirth\n"
     ]
    }
   ],
   "source": [
    "#input you name\n",
    "name=input(\"Enter your Name:\")\n",
    "print(\"Welcome\",name)\n",
    "           "
   ]
  },
  {
   "cell_type": "code",
   "execution_count": 1,
   "id": "f3ce1cd6-b700-4c72-98fc-0f2e53a5a70c",
   "metadata": {},
   "outputs": [
    {
     "name": "stdin",
     "output_type": "stream",
     "text": [
      " 4\n",
      " 5\n",
      " 1\n"
     ]
    },
    {
     "name": "stdout",
     "output_type": "stream",
     "text": [
      "Sum of 3 no: 10\n"
     ]
    }
   ],
   "source": [
    "#sum of 3 no using input\n",
    "a=int(input())\n",
    "b=int(input())\n",
    "c=int(input())\n",
    "print(\"Sum of 3 no:\",a+b+c)"
   ]
  },
  {
   "cell_type": "code",
   "execution_count": 25,
   "id": "8b42bd79-d5d0-48a9-ab26-1362685af5b8",
   "metadata": {},
   "outputs": [
    {
     "name": "stdout",
     "output_type": "stream",
     "text": [
      "[1, 3, 4, 33, 44, 55, 77]\n"
     ]
    }
   ],
   "source": [
    "#sort\n",
    "numbers=[1,4,3,77,44,55,33]\n",
    "numbers.sort()\n",
    "print(numbers)\n"
   ]
  },
  {
   "cell_type": "code",
   "execution_count": 17,
   "id": "0dfcbdd9-b906-4cec-abb3-700eafdcb11b",
   "metadata": {},
   "outputs": [
    {
     "name": "stdout",
     "output_type": "stream",
     "text": [
      "[1, 2, 3, 4, 5, 7, 8]\n",
      "[2, 3, 4, 1, 5, 8, 7]\n"
     ]
    }
   ],
   "source": [
    "#sorted\n",
    "no=[2,3,4,1,5,8,7]\n",
    "sorted_no=sorted(no)\n",
    "print(sorted_no)\n",
    "print(no)"
   ]
  },
  {
   "cell_type": "code",
   "execution_count": 20,
   "id": "e55bdb91-fd31-4372-856f-dcf6d2659df0",
   "metadata": {},
   "outputs": [
    {
     "name": "stdout",
     "output_type": "stream",
     "text": [
      "[5, 4, 3, 2, 1]\n"
     ]
    }
   ],
   "source": [
    "#reverse\n",
    "no=[1,2,3,4,5]\n",
    "no.reverse()\n",
    "print(no)"
   ]
  },
  {
   "cell_type": "code",
   "execution_count": 10,
   "id": "6bb7417e-6383-4feb-8acc-eb9f73ab769a",
   "metadata": {},
   "outputs": [
    {
     "name": "stdin",
     "output_type": "stream",
     "text": [
      "name Tirth\n"
     ]
    },
    {
     "name": "stdout",
     "output_type": "stream",
     "text": [
      "tirth\n"
     ]
    }
   ],
   "source": [
    "#lower\n",
    "a=input(\"name\")\n",
    "print(a.lower())"
   ]
  },
  {
   "cell_type": "code",
   "execution_count": 2,
   "id": "56b4361f-2d7a-4cf1-8f33-0d33ef496d03",
   "metadata": {},
   "outputs": [
    {
     "name": "stdout",
     "output_type": "stream",
     "text": [
      "1\n"
     ]
    }
   ],
   "source": [
    "#count\n",
    "t=(3,4,\"c\",5)\n",
    "print(t.count(4))"
   ]
  },
  {
   "cell_type": "code",
   "execution_count": 4,
   "id": "fd2361c7-c24b-4e27-8060-bfc9f66ab631",
   "metadata": {},
   "outputs": [
    {
     "name": "stdout",
     "output_type": "stream",
     "text": [
      "     Tirth Mahaveer Chankeshwara\n",
      "Tirth Mahaveer Chankeshwara\n",
      "     Tirth Mahaveer Chankeshwara\n"
     ]
    }
   ],
   "source": [
    "#strip and centre\n",
    "name=\"     Tirth Mahaveer Chankeshwara\"\n",
    "print(name)\n",
    "print(name.strip())\n",
    "print(name.center(5))"
   ]
  },
  {
   "cell_type": "code",
   "execution_count": 6,
   "id": "31efb63e-c739-4ea1-aab0-a04c269a102b",
   "metadata": {},
   "outputs": [
    {
     "name": "stdout",
     "output_type": "stream",
     "text": [
      "(3, 4, [4, 9], 5)\n"
     ]
    }
   ],
   "source": [
    "#changing value\n",
    "t=(3,4,[3,9],5)\n",
    "t[2][0]=4\n",
    "print(t)"
   ]
  },
  {
   "cell_type": "code",
   "execution_count": 8,
   "id": "7a1d977f-97b7-487a-a69f-ead6e9ea20b7",
   "metadata": {},
   "outputs": [
    {
     "name": "stdin",
     "output_type": "stream",
     "text": [
      "Enter the age of user: 45\n"
     ]
    },
    {
     "name": "stdout",
     "output_type": "stream",
     "text": [
      "Days remaining: 16020 \n",
      "months remaining: 540 \n",
      "weeks remaining: 2340\n"
     ]
    }
   ],
   "source": [
    "#Get age of user as input &write a program to find hoe many days,months and weeks are remaining if that person live until 90 years old\n",
    "age=int(input(\"Enter the age of user:\"))\n",
    "y=90-age;\n",
    "print(\"Days remaining:\",y*356,\"\\nmonths remaining:\",y*12,\"\\nweeks remaining:\",y*52)\n",
    "              "
   ]
  },
  {
   "cell_type": "code",
   "execution_count": 79,
   "id": "0de13f0f-31a6-45b4-94fb-a5477c2da8fd",
   "metadata": {},
   "outputs": [
    {
     "name": "stdin",
     "output_type": "stream",
     "text": [
      "Enter Amount: 2500\n",
      "Enter persons: 5\n",
      "Entern tip in %: 10\n"
     ]
    },
    {
     "name": "stdout",
     "output_type": "stream",
     "text": [
      "Amount 2500\n",
      "Total Amount wiht tip: 2750.0\n",
      "Amount per Person: 550.0\n"
     ]
    }
   ],
   "source": [
    "#amount and tip \n",
    "amt=int(input(\"Enter Amount:\"))\n",
    "person=int(input(\"Enter persons:\"))\n",
    "tip=int(input(\"Entern tip in %:\"))\n",
    "tipAmt=amt*tip/100\n",
    "tot=amt+tipAmt\n",
    "print(\"Amount\",amt)\n",
    "print(\"Total Amount wiht tip:\",tot)\n",
    "print(\"Amount per Person:\",tot/person)"
   ]
  },
  {
   "cell_type": "code",
   "execution_count": 91,
   "id": "c0782802-ab3a-414f-a37b-2bd14e4b0da7",
   "metadata": {},
   "outputs": [
    {
     "name": "stdin",
     "output_type": "stream",
     "text": [
      "Enter no: 37\n"
     ]
    },
    {
     "name": "stdout",
     "output_type": "stream",
     "text": [
      "Neither Divisible 5 nor Even\n"
     ]
    }
   ],
   "source": [
    "#check even and Divisible by 5\n",
    "no=int(input(\"Enter no:\"))\n",
    "if no%2==0 and no%5==0:\n",
    "    print(\"Even and Divisible by 5\")\n",
    "elif no%2==0:\n",
    "    print(\"Only Even\")\n",
    "elif no%5==0:\n",
    "    print(\"Only Divisible by 5\")\n",
    "else:\n",
    "    print(\"Neither Divisible 5 nor Even\")"
   ]
  },
  {
   "cell_type": "code",
   "execution_count": 47,
   "id": "b77c94f8-907d-4cf2-aee6-485b74f42dfd",
   "metadata": {},
   "outputs": [
    {
     "name": "stdout",
     "output_type": "stream",
     "text": [
      "Password  Between 8 to 16\n"
     ]
    },
    {
     "name": "stdin",
     "output_type": "stream",
     "text": [
      "Enter Password: yugu#@ch55\n"
     ]
    },
    {
     "name": "stdout",
     "output_type": "stream",
     "text": [
      "Pass\n",
      "it has special\n",
      "10\n"
     ]
    }
   ],
   "source": [
    "#creating password and check\n",
    "print(\"Password  Between 8 to 16\")\n",
    "special='#,&,@,_'\n",
    "password = input(\"Enter Password:\")\n",
    "b=len(password)\n",
    "if b >=8 and b <=16:\n",
    "    print(\"Pass\")    \n",
    "    if special:\n",
    "        print(\"it has special\")\n",
    "else:\n",
    "    print(\"Enter atlist 8 to 16 digit password!!\")\n",
    "\n",
    "print(b)\n",
    "    "
   ]
  },
  {
   "cell_type": "code",
   "execution_count": 55,
   "id": "272916f9-bee7-4880-8813-93572c30ab90",
   "metadata": {},
   "outputs": [
    {
     "name": "stdout",
     "output_type": "stream",
     "text": [
      "20\n",
      "yugu#@ch55,my age is20\n"
     ]
    }
   ],
   "source": [
    "#set\n",
    "age=20\n",
    "print(age)\n",
    "print(\"{},my age is{}\".format(password,age))"
   ]
  },
  {
   "cell_type": "code",
   "execution_count": 24,
   "id": "b56f341d-f969-41b8-93c8-11f80e5bec03",
   "metadata": {},
   "outputs": [
    {
     "name": "stdin",
     "output_type": "stream",
     "text": [
      "Enter Weight in kg: 78\n",
      "Enter height in foot: 5.7\n"
     ]
    },
    {
     "name": "stdout",
     "output_type": "stream",
     "text": [
      "2.400738688827331 2%f\n"
     ]
    }
   ],
   "source": [
    "#Body Mass Index\n",
    "w=float(input(\"Enter Weight in kg:\"))\n",
    "h=float(input(\"Enter height in foot:\"))\n",
    "BMI=w/(h)**2\n",
    "print(BMI)"
   ]
  },
  {
   "cell_type": "code",
   "execution_count": 164,
   "id": "fb030f9d-b0a2-4a4b-84aa-628383f1a6cd",
   "metadata": {},
   "outputs": [
    {
     "name": "stdout",
     "output_type": "stream",
     "text": [
      "Heads\n"
     ]
    }
   ],
   "source": [
    "#Random Module\n",
    "import random\n",
    "toss=random.randint(0,1)\n",
    "if(a==0):\n",
    "    print(\"Heads\")\n",
    "else:\n",
    "    print(\"Tails\")"
   ]
  },
  {
   "cell_type": "code",
   "execution_count": 81,
   "id": "db1fa362-05f5-484c-a4c1-3576cd7d3042",
   "metadata": {},
   "outputs": [
    {
     "name": "stdout",
     "output_type": "stream",
     "text": [
      "Head\n",
      "Head\n",
      "Head\n",
      "Tail\n",
      "Head\n",
      "Head\n",
      "Tail\n",
      "Tail\n",
      "Head\n",
      "Head\n"
     ]
    }
   ],
   "source": [
    "#Another example of random\n",
    "import random\n",
    "for i in range(10):\n",
    "    toss=random.randint(0,1)\n",
    "    result=\"Tail\" if toss==0 else \"Head\"\n",
    "    print(result)"
   ]
  },
  {
   "cell_type": "code",
   "execution_count": 97,
   "id": "97c0cadd-2bcb-40ac-a429-13840b19c0c7",
   "metadata": {},
   "outputs": [
    {
     "name": "stdin",
     "output_type": "stream",
     "text": [
      "Enter No:1 2\n",
      "Enter No:2 3\n",
      "Enter No:3 4\n"
     ]
    },
    {
     "name": "stdout",
     "output_type": "stream",
     "text": [
      "9\n"
     ]
    }
   ],
   "source": [
    "#input 3 no. and check for duplicate and calculate sum of non duplicate nos, if duplicate ignor them\n",
    "a=int(input(\"Enter No:1\"))\n",
    "b=int(input(\"Enter No:2\"))\n",
    "c=int(input(\"Enter No:3\"))\n",
    "if (a==b==c):\n",
    "    print(\"All Are Duplicate!! \")\n",
    "elif a==b:\n",
    "    print(c)\n",
    "elif b==c:\n",
    "    print(a)\n",
    "elif a==c:\n",
    "    print(b)\n",
    "else:\n",
    "    sum=a+b+c\n",
    "    print(sum)\n",
    "\n"
   ]
  },
  {
   "cell_type": "code",
   "execution_count": 161,
   "id": "bec2a824-4784-4524-860b-9057fb06a4e9",
   "metadata": {},
   "outputs": [
    {
     "name": "stdout",
     "output_type": "stream",
     "text": [
      "Mahesh has to pay the bill\n"
     ]
    }
   ],
   "source": [
    "#Who is going to pay the bill?\n",
    "import random\n",
    "name=[\"Tirth\",\"Mahesh\",\"Shubham\",\"Pravin\"]\n",
    "if name:\n",
    "    random_name=random.randint(0,len(name)-1)\n",
    "    selected_name=name[random_name]\n",
    "    print(f\"{selected_name} has to pay the bill\")\n",
    "else:\n",
    "    print(\"The list is empty!!\")\n"
   ]
  },
  {
   "cell_type": "code",
   "execution_count": 165,
   "id": "cebbea30-02d3-439a-b9aa-bb80c3976941",
   "metadata": {},
   "outputs": [
    {
     "name": "stdin",
     "output_type": "stream",
     "text": [
      "Enter Your Choice: Rock\n"
     ]
    },
    {
     "name": "stdout",
     "output_type": "stream",
     "text": [
      "Rock\n"
     ]
    }
   ],
   "source": [
    "#Rock,Paper,Scissor\n",
    "import random\n",
    "a=random.randint(0,2)\n",
    "b=['Rock','Paper','Scissor']\n",
    "z=input(\"Enter Your Choice:\")\n",
    "if a==0:\n",
    "    print(b[0])\n",
    "elif a==1:\n",
    "    print(b[1])\n",
    "else:\n",
    "    print(b[2])"
   ]
  },
  {
   "cell_type": "code",
   "execution_count": 169,
   "id": "c73dcab5-c190-477d-9bfc-4d57c6036ebd",
   "metadata": {},
   "outputs": [
    {
     "name": "stdin",
     "output_type": "stream",
     "text": [
      "Enter a Word Tirth\n"
     ]
    },
    {
     "name": "stdout",
     "output_type": "stream",
     "text": [
      "['Tirth']\n",
      "tIRTH\n"
     ]
    }
   ],
   "source": [
    "a=str(input(\"Enter a Word\"))\n",
    "b=[a]\n",
    "print(b)\n",
    "for i in range(len(b)):\n",
    "    c=(b[i]).swapcase()\n",
    "print(c)"
   ]
  },
  {
   "cell_type": "code",
   "execution_count": 7,
   "id": "da17245b-61e4-4611-a1c8-e1a66ab388b0",
   "metadata": {},
   "outputs": [
    {
     "name": "stdout",
     "output_type": "stream",
     "text": [
      "Sum of Even Nos, from 1 to 100 is2550\n"
     ]
    }
   ],
   "source": [
    "#Sum of even No from 1 to 100\n",
    "print(f\"Sum of Even Nos, from 1 to 100 is{50*(50+1)}\")"
   ]
  },
  {
   "cell_type": "code",
   "execution_count": 30,
   "id": "e0da8291-0616-4c3d-9f97-976e59e7da99",
   "metadata": {},
   "outputs": [
    {
     "name": "stdin",
     "output_type": "stream",
     "text": [
      "Enter no Between 1 to 100: 55\n"
     ]
    },
    {
     "name": "stdout",
     "output_type": "stream",
     "text": [
      "Buzz\n"
     ]
    }
   ],
   "source": [
    "#Write a FizzBuzz program if No is divisible by 3 print Fizz. if No is divisible by 5 print Buzz. if both print FizzBuzz\n",
    "a=int(input(\"Enter no Between 1 to 100:\"))\n",
    "if a%5==0 and a%3==0:\n",
    "    print(\"FizzBuzz\")\n",
    "elif a%5==0 :\n",
    "    print(\"Buzz\")\n",
    "elif a%3==0:\n",
    "    print(\"Fizz\")\n",
    "else:\n",
    "    print(\"Enter Correct No, Not Divisible by 3 & 5!!\")\n",
    "    "
   ]
  },
  {
   "cell_type": "code",
   "execution_count": 34,
   "id": "2af4872d-cb4d-4b86-be1c-48a74ad4ae85",
   "metadata": {},
   "outputs": [
    {
     "name": "stdin",
     "output_type": "stream",
     "text": [
      "Enter a String tIRTH\n"
     ]
    },
    {
     "name": "stdout",
     "output_type": "stream",
     "text": [
      "Tirth\n"
     ]
    }
   ],
   "source": [
    "#Get a strinf from user & convert all upper cases to lower cases and versa using for loop.\n",
    "a=input(\"Enter a String\")\n",
    "new=\"\"\n",
    "for i in range(len(a)):\n",
    "    if a[i].isupper():\n",
    "        new+=a[i].lower()\n",
    "    elif a[i].islower():\n",
    "        new+=a[i].upper()\n",
    "    else:\n",
    "        new+=a[i]\n",
    "print(new)\n",
    "        "
   ]
  },
  {
   "cell_type": "code",
   "execution_count": 40,
   "id": "abab7c31-789c-4307-8935-52aa248be6de",
   "metadata": {},
   "outputs": [
    {
     "name": "stdout",
     "output_type": "stream",
     "text": [
      "1\n",
      "2\n",
      "Fizz\n",
      "4\n",
      "Buzz\n",
      "Fizz\n",
      "7\n",
      "8\n",
      "Fizz\n",
      "Buzz\n",
      "11\n",
      "Fizz\n",
      "13\n",
      "14\n",
      "FizzBuzz\n",
      "16\n",
      "17\n",
      "Fizz\n",
      "19\n",
      "Buzz\n",
      "Fizz\n",
      "22\n",
      "23\n",
      "Fizz\n",
      "Buzz\n",
      "26\n",
      "Fizz\n",
      "28\n",
      "29\n",
      "FizzBuzz\n",
      "31\n",
      "32\n",
      "Fizz\n",
      "34\n",
      "Buzz\n",
      "Fizz\n",
      "37\n",
      "38\n",
      "Fizz\n",
      "Buzz\n",
      "41\n",
      "Fizz\n",
      "43\n",
      "44\n",
      "FizzBuzz\n",
      "46\n",
      "47\n",
      "Fizz\n",
      "49\n"
     ]
    }
   ],
   "source": [
    "#Using loop,Write a FizzBuzz program if No is divisible by 3 print Fizz. if No is divisible by 5 print Buzz. if both print FizzBuzz\n",
    "for i in range(1,50):\n",
    "    if i%3==0 and i%5==0:\n",
    "        print(\"FizzBuzz\")\n",
    "    elif i%3==0:\n",
    "        print(\"Fizz\")\n",
    "    elif i%5==0:\n",
    "        print(\"Buzz\")\n",
    "    else:\n",
    "        print(i)"
   ]
  },
  {
   "cell_type": "code",
   "execution_count": 155,
   "id": "13abfe9f-6e50-420d-9672-a16ffcc583a9",
   "metadata": {},
   "outputs": [
    {
     "name": "stdout",
     "output_type": "stream",
     "text": [
      "Generated Password: H53AjMYdEbJcLb\n"
     ]
    }
   ],
   "source": [
    "#Random Gen Password\n",
    "import secrets\n",
    "import string\n",
    "import random\n",
    "length = random.randint(8, 16) \n",
    "char = string.ascii_letters + string.digits + \"!@#_\"\n",
    "passw = ''.join(secrets.choice(char) for _ in range(length))\n",
    "print(\"Generated Password:\", passw)\n"
   ]
  },
  {
   "cell_type": "code",
   "execution_count": null,
   "id": "42a70b6c-9e04-4c82-a0ce-5da36a480175",
   "metadata": {},
   "outputs": [],
   "source": []
  }
 ],
 "metadata": {
  "kernelspec": {
   "display_name": "Python [conda env:base] *",
   "language": "python",
   "name": "conda-base-py"
  },
  "language_info": {
   "codemirror_mode": {
    "name": "ipython",
    "version": 3
   },
   "file_extension": ".py",
   "mimetype": "text/x-python",
   "name": "python",
   "nbconvert_exporter": "python",
   "pygments_lexer": "ipython3",
   "version": "3.12.7"
  }
 },
 "nbformat": 4,
 "nbformat_minor": 5
}
